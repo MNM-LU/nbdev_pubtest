{
 "cells": [
  {
   "cell_type": "code",
   "execution_count": null,
   "metadata": {},
   "outputs": [],
   "source": [
    "# default_exp core"
   ]
  },
  {
   "cell_type": "markdown",
   "metadata": {},
   "source": [
    "# Main run file for total execution\n",
    "\n",
    "> The aim here is to make a complete run environment."
   ]
  },
  {
   "cell_type": "code",
   "execution_count": null,
   "metadata": {},
   "outputs": [],
   "source": [
    "#hide\n",
    "from nbdev.showdoc import *\n"
   ]
  },
  {
   "cell_type": "code",
   "execution_count": null,
   "metadata": {},
   "outputs": [],
   "source": [
    "#export\n",
    "import os\n",
    "import warnings\n",
    "import matplotlib.pyplot as plt\n",
    "from subprocess import call\n",
    "import subprocess\n",
    "import glob\n",
    "import pandas as pd\n",
    "import tempfile\n",
    "import numpy as np"
   ]
  },
  {
   "cell_type": "markdown",
   "metadata": {},
   "source": [
    "## Load the ligand list from .csv file"
   ]
  },
  {
   "cell_type": "code",
   "execution_count": null,
   "metadata": {},
   "outputs": [],
   "source": [
    "#export\n",
    "linandFile=\"./ProteinList_for_AAV9_Library_Export_200907.csv\"\n",
    "ligandList=pd.read_csv(linandFile, sep=',', header=0)"
   ]
  },
  {
   "cell_type": "code",
   "execution_count": null,
   "metadata": {},
   "outputs": [],
   "source": [
    "ligandList"
   ]
  },
  {
   "cell_type": "markdown",
   "metadata": {},
   "source": [
    "## Filter out the ligands from species with shown interaction\n",
    "The princliple here is to select only the ligands which have been shown to function in this specific species"
   ]
  },
  {
   "cell_type": "code",
   "execution_count": null,
   "metadata": {},
   "outputs": [],
   "source": [
    "#export\n",
    "human_ligandList = ligandList.loc[((ligandList['Species'] == 'Human') & (ligandList['Interact human'] == 'Y'))]\n",
    "mouse_ligandList = ligandList.loc[((ligandList['Species'] == 'Mouse') & (ligandList['Interact mouse'] == 'Y'))]\n",
    "mainSpec_ligandList = human_ligandList.append(mouse_ligandList)"
   ]
  },
  {
   "cell_type": "markdown",
   "metadata": {},
   "source": [
    "## Run parameters"
   ]
  },
  {
   "cell_type": "code",
   "execution_count": null,
   "metadata": {},
   "outputs": [],
   "source": [
    "#export\n",
    "input_ligandList = mainSpec_ligandList\n",
    "aa_length=9"
   ]
  },
  {
   "cell_type": "markdown",
   "metadata": {},
   "source": [
    "## Main mk_fragments function"
   ]
  },
  {
   "cell_type": "code",
   "execution_count": null,
   "metadata": {},
   "outputs": [],
   "source": [
    "#export\n",
    "def mk_fragments(aa_seq,aa_length):\n",
    "    last_aa=len(aa_seq)-aa_length\n",
    "    aa_seq[last_aa:len(aa_seq)]\n",
    "    aa_fragments = []\n",
    "    \n",
    "    for start_aa in range(last_aa):\n",
    "        aa_fragments.append(aa_seq[start_aa:start_aa+aa_length])\n",
    "    \n",
    "    return aa_fragments"
   ]
  },
  {
   "cell_type": "markdown",
   "metadata": {},
   "source": [
    "## Generate fragments from all selected AA sequences"
   ]
  },
  {
   "cell_type": "code",
   "execution_count": null,
   "metadata": {},
   "outputs": [],
   "source": [
    "#export\n",
    "all_aa_fragments = pd.DataFrame([])\n",
    "for aa_seq in input_ligandList.Sequence:\n",
    "    all_aa_fragments = all_aa_fragments.append(mk_fragments(aa_seq,aa_length))"
   ]
  },
  {
   "cell_type": "code",
   "execution_count": null,
   "metadata": {},
   "outputs": [],
   "source": [
    "len(all_aa_fragments)"
   ]
  },
  {
   "cell_type": "code",
   "execution_count": null,
   "metadata": {},
   "outputs": [],
   "source": [
    "#export\n",
    "unique_aa_fragments=all_aa_fragments.drop_duplicates()"
   ]
  },
  {
   "cell_type": "code",
   "execution_count": null,
   "metadata": {},
   "outputs": [],
   "source": [
    "unique_aa_fragments.shape"
   ]
  },
  {
   "cell_type": "code",
   "execution_count": null,
   "metadata": {},
   "outputs": [],
   "source": [
    "unique_aa_fragments"
   ]
  },
  {
   "cell_type": "code",
   "execution_count": null,
   "metadata": {},
   "outputs": [],
   "source": []
  }
 ],
 "metadata": {
  "kernelspec": {
   "display_name": "Python 3",
   "language": "python",
   "name": "python3"
  }
 },
 "nbformat": 4,
 "nbformat_minor": 2
}
